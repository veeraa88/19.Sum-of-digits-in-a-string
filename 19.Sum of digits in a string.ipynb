{
 "cells": [
  {
   "cell_type": "code",
   "execution_count": null,
   "id": "68b03713-b572-4334-a6a9-1012d82c1730",
   "metadata": {},
   "outputs": [],
   "source": [
    "## Sum of digits in a string"
   ]
  },
  {
   "cell_type": "code",
   "execution_count": 3,
   "id": "e9790872-5aab-43de-b844-3220cbaa3040",
   "metadata": {},
   "outputs": [
    {
     "name": "stdin",
     "output_type": "stream",
     "text": [
      "Enter number here 12345\n"
     ]
    },
    {
     "name": "stdout",
     "output_type": "stream",
     "text": [
      "Sum of digis: 15\n"
     ]
    }
   ],
   "source": [
    "k=int(input(\"Enter number here\"))\n",
    "sum=0\n",
    "while k>0:\n",
    "    digi=k%10\n",
    "    sum+=digi\n",
    "    k=k//10\n",
    "print(\"Sum of digis:\",sum)    "
   ]
  },
  {
   "cell_type": "code",
   "execution_count": null,
   "id": "28ef4464-7550-4f2e-b3dc-1d26f2cc3eea",
   "metadata": {},
   "outputs": [],
   "source": []
  },
  {
   "cell_type": "code",
   "execution_count": null,
   "id": "d88c59b0-5cc3-4570-a76a-b6e5f94dcebb",
   "metadata": {},
   "outputs": [],
   "source": []
  }
 ],
 "metadata": {
  "kernelspec": {
   "display_name": "Python [conda env:base] *",
   "language": "python",
   "name": "conda-base-py"
  },
  "language_info": {
   "codemirror_mode": {
    "name": "ipython",
    "version": 3
   },
   "file_extension": ".py",
   "mimetype": "text/x-python",
   "name": "python",
   "nbconvert_exporter": "python",
   "pygments_lexer": "ipython3",
   "version": "3.12.7"
  }
 },
 "nbformat": 4,
 "nbformat_minor": 5
}
